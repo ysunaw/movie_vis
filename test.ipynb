{
 "cells": [
  {
   "cell_type": "code",
   "execution_count": 1,
   "metadata": {},
   "outputs": [],
   "source": [
    "import pandas as pd\n",
    "from load_tables import table_loader\n",
    "import json"
   ]
  },
  {
   "cell_type": "code",
   "execution_count": 59,
   "metadata": {},
   "outputs": [],
   "source": [
    "def return_time(float):\n",
    "    d_start = -1262304000\n",
    "    d_end = 1514764800\n",
    "    unix_time = (d_end - d_start)*float+d_start\n",
    "    return pd.to_datetime(unix_time, unit='s').to_period('d').to_timestamp()"
   ]
  },
  {
   "cell_type": "code",
   "execution_count": 63,
   "metadata": {},
   "outputs": [],
   "source": [
    "class table_loader():\n",
    "    def __init__(self):\n",
    "        self.movie_actorDF = pd.read_csv(\"final_MovieToActor.csv\",index_col=0)\n",
    "        self.actorDF = pd.read_csv(\"final_Actors.csv\", index_col=0)\n",
    "        self.metaDataDF = pd.read_csv(\"final_MoviesMetaData_processed.csv\", index_col=0)\n",
    "        self.metaDataDF.loc[:,'release_date'] = pd.to_datetime(self.metaDataDF['release_date'])\n",
    "        self.movie_to_genreDF = pd.read_csv('final_MovieToGenre.csv', index_col=0)\n",
    "        self.Mean = 1\n",
    "\n",
    "    def return_filtered(self, start_float, end_float, max_num=50, genres='All'):\n",
    "\n",
    "        start_t = return_time(start_float)\n",
    "        end_t = return_time(end_float)\n",
    "        time_contrainedMetaFD = self.metaDataDF[(self.metaDataDF['release_date'] > start_t) & (self.metaDataDF['release_date'] < end_t)]\n",
    "        if genres == 'All':\n",
    "            pass\n",
    "        else:\n",
    "            table = self.movie_to_genreDF[self.movie_to_genreDF.name.isin(genres)][['id','name']].groupby('id').count()\n",
    "            table = table[table.name==len(genres)]\n",
    "            table.loc[:,'id'] = table.index\n",
    "            time_contrainedMetaFD = pd.merge(table,time_contrainedMetaFD)\n",
    "        start_d = pd.to_datetime(start_t)\n",
    "        end_d = pd.to_datetime(end_t)\n",
    "        scoreDF = pd.merge(self.movie_actorDF, time_contrainedMetaFD)[['actor_id', 'final_score']].groupby('actor_id').sum()\n",
    "        scoreDF = scoreDF / scoreDF.sort_values('final_score', ascending=False).iloc[:max_num].sum()\n",
    "        time_contrainedMetaFD.loc[:,'relative_position'] = (time_contrainedMetaFD.release_date - start_d) / (end_d - start_d)\n",
    "        self.time_contrainedMetaFD=time_contrainedMetaFD\n",
    "        final_table = pd.merge(self.movie_actorDF, time_contrainedMetaFD)[['actor_id', 'relative_position']].groupby(\n",
    "            'actor_id').mean().join(self.actorDF).join(scoreDF).sort_values('final_score', ascending=False).iloc[:max_num]\n",
    "        final_table.loc[:,'actor_id'] =  final_table.index\n",
    "        #columns_table = self.return_revenue_chart(num_columns,self.Mean)\n",
    "        return final_table.to_json(orient='index')#.to_csv()#, ','.join(columns_table.astype(str))) #.to_json(orient='index')\n",
    "\n",
    "    def return_revenue_chart(self, num_columns, Mean = 1):\n",
    "        self.mean = Mean\n",
    "        if Mean:\n",
    "            return ','.join(self.time_contrainedMetaFD[self.time_contrainedMetaFD.revenue!=0].groupby(\n",
    "            pd.cut(self.time_contrainedMetaFD[self.time_contrainedMetaFD.revenue!=0][\"relative_position\"],\n",
    "                   np.arange(0, 1.0+1/num_columns, 1/num_columns)))['revenue'].mean().values.astype(str))\n",
    "        else:\n",
    "            return ','.join(self.time_contrainedMetaFD[self.time_contrainedMetaFD.revenue != 0].groupby(\n",
    "                pd.cut(self.time_contrainedMetaFD[self.time_contrainedMetaFD.revenue != 0][\"relative_position\"],\n",
    "                       np.arange(0, 1.0 + 1 / num_columns, 1 / num_columns)))['revenue'].sum().values.astype(str))\n",
    "\n",
    "    def return_actor_network(self,actor_id):\n",
    "        pd.merge(pd.merge(self.movie_actorDF[self.movie_actorDF.actor_id == actor_id], self.metaDataDF), self.movie_to_genreDF)\n",
    "        DF = pd.merge(\n",
    "            pd.merge(pd.merge(self.movie_actorDF[self.movie_actorDF.actor_id == actor_id], self.metaDataDF), self.movie_to_genreDF)[\n",
    "                ['id', 'genre_id']], self.movie_actorDF)\n",
    "        DF2 = DF[DF.actor_id != actor_id].drop_duplicates(['id', 'actor_id'])\n",
    "        self.actorDF.loc[:,'actor_id'] = self.actorDF.index\n",
    "        DF3 = pd.merge(DF2, self.actorDF)\n",
    "        DF4 = DF3.sort_values('all_time_final_score', ascending=False).iloc[:50]\n",
    "        actor_dictionary = self.actorDF[['name', 'gender', 'all_time_final_score','actor_id']].to_dict(orient='index')\n",
    "        actor_set = set()\n",
    "        actor_dict_list = [{'name': actor_dictionary[actor_id]['name'], 'gender': actor_dictionary[actor_id]['gender'],\n",
    "                            'score': actor_dictionary[actor_id]['all_time_final_score'], 'actor_id':actor_dictionary[actor_id]['actor_id']}]\n",
    "        links_list = []\n",
    "        skip = 0\n",
    "        for index, (index_row, row) in enumerate(DF4.iterrows()):\n",
    "\n",
    "            links_list.append({'source': 0, \"target\": len(links_list) - skip, 'value': row.genre_id})\n",
    "            if row.actor_id in actor_set:\n",
    "                skip += 1\n",
    "                continue\n",
    "            #print(row)\n",
    "            actor_set.add(row.actor_id)\n",
    "            actor_dict_list.append(\n",
    "                {'name': actor_dictionary[row.actor_id]['name'], 'gender': actor_dictionary[row.actor_id]['gender'],\n",
    "                 'score': actor_dictionary[row.actor_id]['all_time_final_score'], 'actor_id':actor_dictionary[row.actor_id]['actor_id']})\n",
    "        return json.dumps({\"actors\":actor_dict_list, \"movies\":links_list})\n"
   ]
  },
  {
   "cell_type": "code",
   "execution_count": 64,
   "metadata": {},
   "outputs": [],
   "source": [
    "loader = table_loader()"
   ]
  },
  {
   "cell_type": "code",
   "execution_count": 65,
   "metadata": {},
   "outputs": [
    {
     "data": {
      "text/plain": [
       "'{\"actors\": [{\"name\": \"Samuel L. Jackson\", \"gender\": 2, \"score\": 457.343116678874, \"actor_id\": 2231}, {\"name\": \"Tom Hanks\", \"gender\": 2, \"score\": 392.26903862409074, \"actor_id\": 31}, {\"name\": \"Sandra Bullock\", \"gender\": 1, \"score\": 390.5348017356965, \"actor_id\": 18277}, {\"name\": \"Robert De Niro\", \"gender\": 2, \"score\": 387.9057361089489, \"actor_id\": 380}, {\"name\": \"Michael Caine\", \"gender\": 2, \"score\": 374.40415142073664, \"actor_id\": 3895}, {\"name\": \"Bruce Willis\", \"gender\": 2, \"score\": 365.42308237389335, \"actor_id\": 62}, {\"name\": \"Robert Downey Jr.\", \"gender\": 2, \"score\": 349.86696782807974, \"actor_id\": 3223}, {\"name\": \"Brad Pitt\", \"gender\": 2, \"score\": 327.70813154256837, \"actor_id\": 287}, {\"name\": \"Michael Keaton\", \"gender\": 2, \"score\": 312.88762986042804, \"actor_id\": 2232}, {\"name\": \"Harrison Ford\", \"gender\": 2, \"score\": 297.6883434969454, \"actor_id\": 3}, {\"name\": \"Christian Bale\", \"gender\": 2, \"score\": 289.02466121895003, \"actor_id\": 3894}, {\"name\": \"Gary Oldman\", \"gender\": 2, \"score\": 286.80295616789806, \"actor_id\": 64}, {\"name\": \"Liam Neeson\", \"gender\": 2, \"score\": 283.18767645488947, \"actor_id\": 3896}, {\"name\": \"Scarlett Johansson\", \"gender\": 1, \"score\": 283.05279410369536, \"actor_id\": 1245}, {\"name\": \"Ewan McGregor\", \"gender\": 2, \"score\": 281.11231023116574, \"actor_id\": 3061}, {\"name\": \"Ben Affleck\", \"gender\": 2, \"score\": 278.7561190858803, \"actor_id\": 880}, {\"name\": \"Willem Dafoe\", \"gender\": 2, \"score\": 267.62486494317693, \"actor_id\": 5293}, {\"name\": \"Chris Evans\", \"gender\": 2, \"score\": 265.0166456390928, \"actor_id\": 16828}, {\"name\": \"Kevin Spacey\", \"gender\": 2, \"score\": 264.23910808806977, \"actor_id\": 1979}, {\"name\": \"John Travolta\", \"gender\": 2, \"score\": 258.61688685975696, \"actor_id\": 8891}], \"movies\": [{\"source\": 0, \"target\": 0, \"value\": 36}, {\"source\": 0, \"target\": 1, \"value\": 99}, {\"source\": 0, \"target\": 1, \"value\": 18}, {\"source\": 0, \"target\": 2, \"value\": 18}, {\"source\": 0, \"target\": 3, \"value\": 35}, {\"source\": 0, \"target\": 3, \"value\": 35}, {\"source\": 0, \"target\": 4, \"value\": 35}, {\"source\": 0, \"target\": 4, \"value\": 80}, {\"source\": 0, \"target\": 5, \"value\": 28}, {\"source\": 0, \"target\": 5, \"value\": 35}, {\"source\": 0, \"target\": 5, \"value\": 18}, {\"source\": 0, \"target\": 5, \"value\": 12}, {\"source\": 0, \"target\": 6, \"value\": 12}, {\"source\": 0, \"target\": 6, \"value\": 12}, {\"source\": 0, \"target\": 6, \"value\": 12}, {\"source\": 0, \"target\": 6, \"value\": 35}, {\"source\": 0, \"target\": 6, \"value\": 99}, {\"source\": 0, \"target\": 6, \"value\": 10749}, {\"source\": 0, \"target\": 7, \"value\": 35}, {\"source\": 0, \"target\": 7, \"value\": 18}, {\"source\": 0, \"target\": 7, \"value\": 35}, {\"source\": 0, \"target\": 8, \"value\": 35}, {\"source\": 0, \"target\": 8, \"value\": 28}, {\"source\": 0, \"target\": 8, \"value\": 35}, {\"source\": 0, \"target\": 8, \"value\": 18}, {\"source\": 0, \"target\": 9, \"value\": 12}, {\"source\": 0, \"target\": 10, \"value\": 28}, {\"source\": 0, \"target\": 11, \"value\": 10749}, {\"source\": 0, \"target\": 11, \"value\": 12}, {\"source\": 0, \"target\": 12, \"value\": 12}, {\"source\": 0, \"target\": 13, \"value\": 35}, {\"source\": 0, \"target\": 13, \"value\": 12}, {\"source\": 0, \"target\": 13, \"value\": 12}, {\"source\": 0, \"target\": 13, \"value\": 12}, {\"source\": 0, \"target\": 13, \"value\": 99}, {\"source\": 0, \"target\": 13, \"value\": 12}, {\"source\": 0, \"target\": 14, \"value\": 12}, {\"source\": 0, \"target\": 14, \"value\": 12}, {\"source\": 0, \"target\": 14, \"value\": 12}, {\"source\": 0, \"target\": 15, \"value\": 18}, {\"source\": 0, \"target\": 16, \"value\": 12}, {\"source\": 0, \"target\": 16, \"value\": 12}, {\"source\": 0, \"target\": 17, \"value\": 12}, {\"source\": 0, \"target\": 17, \"value\": 12}, {\"source\": 0, \"target\": 17, \"value\": 12}, {\"source\": 0, \"target\": 17, \"value\": 99}, {\"source\": 0, \"target\": 17, \"value\": 12}, {\"source\": 0, \"target\": 18, \"value\": 18}, {\"source\": 0, \"target\": 18, \"value\": 18}, {\"source\": 0, \"target\": 19, \"value\": 80}]}'"
      ]
     },
     "execution_count": 65,
     "metadata": {},
     "output_type": "execute_result"
    }
   ],
   "source": [
    "loader.return_actor_network(2231)"
   ]
  },
  {
   "cell_type": "code",
   "execution_count": 118,
   "metadata": {},
   "outputs": [],
   "source": [
    "movie_actorDF = pd.read_csv(\"final_MovieToActor.csv\",index_col=0)\n",
    "actorDF = pd.read_csv(\"final_Actors.csv\", index_col=0)\n",
    "metaDataDF = pd.read_csv(\"final_MoviesMetaData_processed.csv\", index_col=0)\n",
    "metaDataDF.loc[:,'release_date'] = pd.to_datetime(metaDataDF['release_date'])\n"
   ]
  },
  {
   "cell_type": "code",
   "execution_count": 119,
   "metadata": {},
   "outputs": [],
   "source": [
    "actorDF['actor_id'] = actorDF.index\n",
    "start_t = return_time(0)\n",
    "end_t = return_time(1)\n",
    "start_d = pd.to_datetime(start_t)\n",
    "end_d = pd.to_datetime(end_t)"
   ]
  },
  {
   "cell_type": "code",
   "execution_count": 121,
   "metadata": {},
   "outputs": [
    {
     "data": {
      "text/plain": [
       "'{\"0\":{\"id\":1572,\"title\":\"Die Hard: With a Vengeance\",\"relative_position\":0.7429220335,\"vote_average\":6.9,\"score\":8.9514199251},\"1\":{\"id\":21183,\"title\":\"Fluke\",\"relative_position\":0.7433576006,\"vote_average\":6.6,\"score\":2.6383615749},\"2\":{\"id\":6071,\"title\":\"Kiss of Death\",\"relative_position\":0.7420508991,\"vote_average\":5.7,\"score\":2.6895813189},\"3\":{\"id\":28313,\"title\":\"Losing Isaiah\",\"relative_position\":0.7409619812,\"vote_average\":6.4,\"score\":3.7855681076},\"4\":{\"id\":680,\"title\":\"Pulp Fiction\",\"relative_position\":0.7351129363,\"vote_average\":8.3,\"score\":114.3271876123},\"5\":{\"id\":13815,\"title\":\"Fresh\",\"relative_position\":0.7345840334,\"vote_average\":7.6,\"score\":2.8284858871},\"6\":{\"id\":329,\"title\":\"Jurassic Park\",\"relative_position\":0.7209258914,\"vote_average\":7.6,\"score\":6.3147878194},\"7\":{\"id\":9516,\"title\":\"Menace II Society\",\"relative_position\":0.7204281003,\"vote_average\":7.2,\"score\":3.3990891974},\"8\":{\"id\":41588,\"title\":\"The New Age\",\"relative_position\":0.735299608,\"vote_average\":4.8,\"score\":0.1057264863},\"9\":{\"id\":319,\"title\":\"True Romance\",\"relative_position\":0.723725966,\"vote_average\":7.5,\"score\":11.9736555833},\"10\":{\"id\":20759,\"title\":\"The Great White Hype\",\"relative_position\":0.7538112127,\"vote_average\":5.1,\"score\":0.757203276},\"11\":{\"id\":1645,\"title\":\"A Time to Kill\",\"relative_position\":0.7563623919,\"vote_average\":7.0,\"score\":8.1188172859},\"12\":{\"id\":11412,\"title\":\"The Long Kiss Goodnight\",\"relative_position\":0.7588202352,\"vote_average\":6.4,\"score\":7.1213506786},\"13\":{\"id\":27845,\"title\":\"Trees Lounge\",\"relative_position\":0.7588202352,\"vote_average\":6.7,\"score\":1.9141321873},\"14\":{\"id\":67365,\"title\":\"The Search for One-eye Jimmy\",\"relative_position\":0.7371352125,\"vote_average\":6.3,\"score\":0.2905702187},\"15\":{\"id\":769,\"title\":\"GoodFellas\",\"relative_position\":0.6897206148,\"vote_average\":8.2,\"score\":12.3113558285},\"16\":{\"id\":31000,\"title\":\"Amos & Andrew\",\"relative_position\":0.7178769212,\"vote_average\":5.0,\"score\":0.8291305914},\"17\":{\"id\":6072,\"title\":\"One Eight Seven\",\"relative_position\":0.76787381,\"vote_average\":6.5,\"score\":3.3178684461},\"18\":{\"id\":45153,\"title\":\"Eve\\'s Bayou\",\"relative_position\":0.7691182876,\"vote_average\":6.3,\"score\":0.6883918514},\"19\":{\"id\":184,\"title\":\"Jackie Brown\",\"relative_position\":0.7724783772,\"vote_average\":7.3,\"score\":10.8903008957},\"20\":{\"id\":10153,\"title\":\"Sphere\",\"relative_position\":0.7740650862,\"vote_average\":5.8,\"score\":2.6056867448},\"21\":{\"id\":1389,\"title\":\"Out of Sight\",\"relative_position\":0.7782029743,\"vote_average\":6.5,\"score\":3.765264522},\"22\":{\"id\":11587,\"title\":\"The Exorcist III\",\"relative_position\":0.6889117043,\"vote_average\":6.1,\"score\":2.5137387679},\"23\":{\"id\":9631,\"title\":\"The Negotiator\",\"relative_position\":0.7792296683,\"vote_average\":6.8,\"score\":4.3795473835},\"24\":{\"id\":1893,\"title\":\"Star Wars: Episode I - The Phantom Menace\",\"relative_position\":0.7883765789,\"vote_average\":6.4,\"score\":7.6950704332},\"25\":{\"id\":14283,\"title\":\"The Red Violin\",\"relative_position\":0.7805674818,\"vote_average\":7.2,\"score\":4.9916762686},\"26\":{\"id\":8914,\"title\":\"Deep Blue Sea\",\"relative_position\":0.7905544148,\"vote_average\":5.6,\"score\":2.4308195786},\"27\":{\"id\":8052,\"title\":\"Hard Eight\",\"relative_position\":0.7517889366,\"vote_average\":6.8,\"score\":4.0320107534},\"28\":{\"id\":9644,\"title\":\"National Lampoon\\'s Loaded Weapon 1\",\"relative_position\":0.7169746749,\"vote_average\":5.7,\"score\":3.9707034174},\"29\":{\"id\":9869,\"title\":\"Patriot Games\",\"relative_position\":0.7093522494,\"vote_average\":6.4,\"score\":5.4462007745},\"30\":{\"id\":36739,\"title\":\"School Daze\",\"relative_position\":0.6603820546,\"vote_average\":6.1,\"score\":2.684710671},\"31\":{\"id\":925,\"title\":\"Do the Right Thing\",\"relative_position\":0.6760624728,\"vote_average\":7.6,\"score\":7.4558291398},\"32\":{\"id\":41823,\"title\":\"Mo\\' Better Blues\",\"relative_position\":0.6884761371,\"vote_average\":6.3,\"score\":1.2786386565},\"33\":{\"id\":1713,\"title\":\"Jungle Fever\",\"relative_position\":0.6980586149,\"vote_average\":6.0,\"score\":3.1406764572},\"34\":{\"id\":10479,\"title\":\"Rules of Engagement\",\"relative_position\":0.7984568477,\"vote_average\":6.0,\"score\":4.1912590049},\"35\":{\"id\":479,\"title\":\"Shaft\",\"relative_position\":0.8006035717,\"vote_average\":5.5,\"score\":2.2569420902},\"36\":{\"id\":19380,\"title\":\"White Sands\",\"relative_position\":0.7080766598,\"vote_average\":5.5,\"score\":0.9677122396},\"37\":{\"id\":9741,\"title\":\"Unbreakable\",\"relative_position\":0.8053014747,\"vote_average\":6.9,\"score\":8.6792472047},\"38\":{\"id\":17159,\"title\":\"Eddie Murphy Raw\",\"relative_position\":0.6579242113,\"vote_average\":7.4,\"score\":7.6639717096},\"39\":{\"id\":25208,\"title\":\"The Caveman\\'s Valentine\",\"relative_position\":0.8073859747,\"vote_average\":6.0,\"score\":3.6707497493},\"40\":{\"id\":9602,\"title\":\"Coming to America\",\"relative_position\":0.6646443905,\"vote_average\":6.5,\"score\":4.0113065185},\"41\":{\"id\":12150,\"title\":\"Sea of Love\",\"relative_position\":0.6784580922,\"vote_average\":6.7,\"score\":5.4159098104},\"42\":{\"id\":37835,\"title\":\"The Exterminator\",\"relative_position\":0.5760375832,\"vote_average\":6.1,\"score\":1.533971436},\"43\":{\"id\":1537,\"title\":\"Changing Lanes\",\"relative_position\":0.8211685645,\"vote_average\":5.9,\"score\":3.0234511871},\"44\":{\"id\":1894,\"title\":\"Star Wars: Episode II - Attack of the Clones\",\"relative_position\":0.8223508182,\"vote_average\":6.4,\"score\":6.9198245008},\"45\":{\"id\":7451,\"title\":\"xXx\",\"relative_position\":0.8250264451,\"vote_average\":5.8,\"score\":4.6528803576},\"46\":{\"id\":18913,\"title\":\"Betsy\\'s Wedding\",\"relative_position\":0.6871694356,\"vote_average\":5.0,\"score\":1.6351696934},\"47\":{\"id\":1613,\"title\":\"The 51st State\",\"relative_position\":0.8174040197,\"vote_average\":5.9,\"score\":2.4626230376},\"48\":{\"id\":25566,\"title\":\"Ragtime\",\"relative_position\":0.5896023894,\"vote_average\":6.7,\"score\":3.4003093658},\"49\":{\"id\":10782,\"title\":\"Basic\",\"relative_position\":0.8328666542,\"vote_average\":6.2,\"score\":6.4469434844},\"50\":{\"id\":9257,\"title\":\"S.W.A.T.\",\"relative_position\":0.8363511916,\"vote_average\":5.8,\"score\":4.8769122879},\"51\":{\"id\":2017,\"title\":\"No Good Deed\",\"relative_position\":0.8237197436,\"vote_average\":5.2,\"score\":1.025495541},\"52\":{\"id\":13572,\"title\":\"Twisted\",\"relative_position\":0.8426669156,\"vote_average\":5.3,\"score\":1.42470519},\"53\":{\"id\":393,\"title\":\"Kill Bill: Vol. 2\",\"relative_position\":0.8441914007,\"vote_average\":7.7,\"score\":15.6718676778},\"54\":{\"id\":16136,\"title\":\"Juice\",\"relative_position\":0.7050276896,\"vote_average\":7.0,\"score\":3.3840458924},\"55\":{\"id\":20876,\"title\":\"A Shock to the System\",\"relative_position\":0.684338249,\"vote_average\":6.7,\"score\":1.6640872654},\"56\":{\"id\":9806,\"title\":\"The Incredibles\",\"relative_position\":0.8505071246,\"vote_average\":7.4,\"score\":15.1150799749},\"57\":{\"id\":45145,\"title\":\"Johnny Suede\",\"relative_position\":0.7002986746,\"vote_average\":4.8,\"score\":0.356483466},\"58\":{\"id\":16635,\"title\":\"In My Country\",\"relative_position\":0.8447514156,\"vote_average\":7.1,\"score\":0.717494078},\"59\":{\"id\":7214,\"title\":\"Coach Carter\",\"relative_position\":0.8526849605,\"vote_average\":7.3,\"score\":7.3597605133},\"60\":{\"id\":11679,\"title\":\"xXx: State of the Union\",\"relative_position\":0.8558894904,\"vote_average\":4.7,\"score\":3.1005038565},\"61\":{\"id\":1895,\"title\":\"Star Wars: Episode III - Revenge of the Sith\",\"relative_position\":0.8565117292,\"vote_average\":7.1,\"score\":8.2718410465},\"62\":{\"id\":25975,\"title\":\"My Date with Drew\",\"relative_position\":0.8590006845,\"vote_average\":6.3,\"score\":0.5702661998},\"63\":{\"id\":9074,\"title\":\"The Man\",\"relative_position\":0.8600584904,\"vote_average\":5.4,\"score\":3.1642281784},\"64\":{\"id\":9959,\"title\":\"Freedomland\",\"relative_position\":0.8650986249,\"vote_average\":5.2,\"score\":1.3265508318},\"65\":{\"id\":326,\"title\":\"Snakes on a Plane\",\"relative_position\":0.8703876548,\"vote_average\":5.1,\"score\":1.691079452},\"66\":{\"id\":12486,\"title\":\"Farce of the Penguins\",\"relative_position\":0.8740277519,\"vote_average\":3.2,\"score\":0.0650075602},\"67\":{\"id\":14171,\"title\":\"Home of the Brave\",\"relative_position\":0.874463319,\"vote_average\":5.5,\"score\":1.2375061629},\"68\":{\"id\":7874,\"title\":\"Black Snake Moan\",\"relative_position\":0.8742455354,\"vote_average\":6.6,\"score\":3.7548955746},\"69\":{\"id\":3021,\"title\":\"1408\",\"relative_position\":0.8809657146,\"vote_average\":6.5,\"score\":4.7115084084},\"70\":{\"id\":13074,\"title\":\"Resurrecting the Champ\",\"relative_position\":0.8800945803,\"vote_average\":5.9,\"score\":2.8814016264},\"71\":{\"id\":13252,\"title\":\"Cleaner\",\"relative_position\":0.882863543,\"vote_average\":5.9,\"score\":3.2293806871},\"72\":{\"id\":8247,\"title\":\"Jumper\",\"relative_position\":0.887592558,\"vote_average\":5.9,\"score\":4.2687567564},\"73\":{\"id\":1726,\"title\":\"Iron Man\",\"relative_position\":0.8900815133,\"vote_average\":7.4,\"score\":15.0150064567},\"74\":{\"id\":12180,\"title\":\"Star Wars: The Clone Wars\",\"relative_position\":0.8930993715,\"vote_average\":5.8,\"score\":3.1177449949},\"75\":{\"id\":8285,\"title\":\"The Spirit\",\"relative_position\":0.8975172671,\"vote_average\":4.7,\"score\":0.9331669744},\"76\":{\"id\":13279,\"title\":\"Lakeview Terrace\",\"relative_position\":0.8944994089,\"vote_average\":5.9,\"score\":5.3587269534},\"77\":{\"id\":14655,\"title\":\"Soul Men\",\"relative_position\":0.896023894,\"vote_average\":6.3,\"score\":4.1568606831},\"78\":{\"id\":14711,\"title\":\"Afro Samurai: Resurrection\",\"relative_position\":0.8984817373,\"vote_average\":6.7,\"score\":2.4461114708},\"79\":{\"id\":16869,\"title\":\"Inglourious Basterds\",\"relative_position\":0.9048596851,\"vote_average\":7.9,\"score\":12.7933888543},\"80\":{\"id\":16577,\"title\":\"Astro Boy\",\"relative_position\":0.9066641777,\"vote_average\":6.1,\"score\":5.7014363416},\"81\":{\"id\":10138,\"title\":\"Iron Man 2\",\"relative_position\":0.9127310062,\"vote_average\":6.6,\"score\":10.1633855445},\"82\":{\"id\":38199,\"title\":\"Unthinkable\",\"relative_position\":0.9141932674,\"vote_average\":6.7,\"score\":3.8587813223},\"83\":{\"id\":27581,\"title\":\"The Other Guys\",\"relative_position\":0.9158422002,\"vote_average\":6.1,\"score\":5.3768329923},\"84\":{\"id\":37080,\"title\":\"Mother and Child\",\"relative_position\":0.9073797523,\"vote_average\":6.7,\"score\":1.8641948112},\"85\":{\"id\":56831,\"title\":\"The Sunset Limited\",\"relative_position\":0.921753469,\"vote_average\":7.1,\"score\":2.8085869516},\"86\":{\"id\":10195,\"title\":\"Thor\",\"relative_position\":0.923869081,\"vote_average\":6.6,\"score\":15.5291947576},\"87\":{\"id\":57586,\"title\":\"African Cats\",\"relative_position\":0.9239001929,\"vote_average\":7.1,\"score\":2.0526741809},\"88\":{\"id\":1771,\"title\":\"Captain America: The First Avenger\",\"relative_position\":0.9267313795,\"vote_average\":6.6,\"score\":10.2913312241},\"89\":{\"id\":24428,\"title\":\"The Avengers\",\"relative_position\":0.935380499,\"vote_average\":7.4,\"score\":61.1451801624},\"90\":{\"id\":71254,\"title\":\"Arena\",\"relative_position\":0.9292514467,\"vote_average\":5.0,\"score\":2.0964897539},\"91\":{\"id\":94204,\"title\":\"Meeting Evil\",\"relative_position\":0.9356293946,\"vote_average\":4.7,\"score\":0.575728704},\"92\":{\"id\":208988,\"title\":\"The War\",\"relative_position\":0.8832368863,\"vote_average\":5.3,\"score\":0.129184585},\"93\":{\"id\":288421,\"title\":\"Making \\'Do the Right Thing\\'\",\"relative_position\":0.6799825773,\"vote_average\":0.0,\"score\":0.0},\"94\":{\"id\":68718,\"title\":\"Django Unchained\",\"relative_position\":0.9429718126,\"vote_average\":7.8,\"score\":14.6948035147},\"95\":{\"id\":98339,\"title\":\"The Samaritan\",\"relative_position\":0.9337004542,\"vote_average\":5.2,\"score\":2.836311459},\"96\":{\"id\":86843,\"title\":\"With Great Power: The Stan Lee Story\",\"relative_position\":0.915437745,\"vote_average\":5.3,\"score\":0.534595895},\"97\":{\"id\":77950,\"title\":\"Turbo\",\"relative_position\":0.9491319769,\"vote_average\":6.1,\"score\":3.8513274185},\"98\":{\"id\":133931,\"title\":\"Zambezia\",\"relative_position\":0.9366560886,\"vote_average\":5.3,\"score\":2.33869814},\"99\":{\"id\":87516,\"title\":\"Oldboy\",\"relative_position\":0.9530520814,\"vote_average\":5.9,\"score\":3.0480966634},\"100\":{\"id\":240916,\"title\":\"Reasonable Doubt\",\"relative_position\":0.9550432456,\"vote_average\":5.6,\"score\":3.5917107185},\"101\":{\"id\":97020,\"title\":\"RoboCop\",\"relative_position\":0.9554477008,\"vote_average\":5.7,\"score\":3.5343230986},\"102\":{\"id\":100402,\"title\":\"Captain America: The Winter Soldier\",\"relative_position\":0.9569721859,\"vote_average\":7.6,\"score\":13.3349860405},\"103\":{\"id\":207703,\"title\":\"Kingsman: The Secret Service\",\"relative_position\":0.9667724473,\"vote_average\":7.6,\"score\":20.1076730898},\"104\":{\"id\":99861,\"title\":\"Avengers: Age of Ultron\",\"relative_position\":0.9693547383,\"vote_average\":7.3,\"score\":24.7980981817},\"105\":{\"id\":173299,\"title\":\"Hail Caesar\",\"relative_position\":0.7313172796,\"vote_average\":4.5,\"score\":0.121609593},\"106\":{\"id\":273248,\"title\":\"The Hateful Eight\",\"relative_position\":0.9770393877,\"vote_average\":7.6,\"score\":14.4827889996},\"107\":{\"id\":230179,\"title\":\"Big Game\",\"relative_position\":0.9622301039,\"vote_average\":5.3,\"score\":1.831616135},\"108\":{\"id\":192712,\"title\":\"Kite\",\"relative_position\":0.9596167009,\"vote_average\":4.2,\"score\":0.8179125356},\"109\":{\"id\":248574,\"title\":\"Barely Lethal\",\"relative_position\":0.9696036339,\"vote_average\":5.5,\"score\":3.3488649109},\"110\":{\"id\":62931,\"title\":\"Afro Samurai\",\"relative_position\":0.8750855578,\"vote_average\":7.3,\"score\":2.1840291965},\"111\":{\"id\":66799,\"title\":\"Assault at West Point: The Court-Martial of Johnson Whittaker\",\"relative_position\":0.729014996,\"vote_average\":6.5,\"score\":0.5204543219},\"112\":{\"id\":45147,\"title\":\"Strictly Business\",\"relative_position\":0.7028498538,\"vote_average\":5.6,\"score\":0.2729988914},\"113\":{\"id\":67083,\"title\":\"BaadAsssss Cinema\",\"relative_position\":0.8181818182,\"vote_average\":6.5,\"score\":2.1049488982},\"114\":{\"id\":168098,\"title\":\"Cell\",\"relative_position\":0.9830751042,\"vote_average\":4.4,\"score\":1.2975212181},\"115\":{\"id\":258489,\"title\":\"The Legend of Tarzan\",\"relative_position\":0.9828573206,\"vote_average\":5.5,\"score\":13.8041099004},\"116\":{\"id\":283366,\"title\":\"Miss Peregrine\\'s Home for Peculiar Children\",\"relative_position\":0.9856885072,\"vote_average\":6.5,\"score\":18.5771402513},\"117\":{\"id\":259910,\"title\":\"Marvel Studios: Assembling a Universe\",\"relative_position\":0.956909962,\"vote_average\":6.6,\"score\":3.9079624663},\"118\":{\"id\":411019,\"title\":\"I Am Not Your Negro\",\"relative_position\":0.9896708357,\"vote_average\":8.0,\"score\":9.0868727125},\"119\":{\"id\":47971,\"title\":\"xXx: Return of Xander Cage\",\"relative_position\":0.9890174849,\"vote_average\":5.5,\"score\":5.4501875924},\"120\":{\"id\":293167,\"title\":\"Kong: Skull Island\",\"relative_position\":0.9906975297,\"vote_average\":6.2,\"score\":13.2420134945},\"121\":{\"id\":140465,\"title\":\"Prohibition\",\"relative_position\":0.9289714392,\"vote_average\":7.6,\"score\":1.0212154784}}'"
      ]
     },
     "execution_count": 121,
     "metadata": {},
     "output_type": "execute_result"
    }
   ],
   "source": [
    "DF = pd.merge(movie_actorDF[movie_actorDF.actor_id == 2231],metaDataDF)#\n",
    "DF.loc[:,'relative_position'] = (DF.release_date - start_d) / (end_d - start_d)\n",
    "#DF.loc[:,'circle_size'] = DF['score']/DF['score'].sum()\n",
    "DF[['id','title','relative_position','vote_average','score']].to_json(orient='index')"
   ]
  },
  {
   "cell_type": "code",
   "execution_count": null,
   "metadata": {},
   "outputs": [],
   "source": [
    "    def return_cloud_points(self,actor_id):\n",
    "        \n",
    "    start_t = return_time(0)\n",
    "    end_t = return_time(1)\n",
    "    start_d = pd.to_datetime(start_t)\n",
    "    end_d = pd.to_datetime(end_t)\n",
    "    DF = pd.merge(movie_actorDF[movie_actorDF.actor_id == actor_id],metaDataDF)#\n",
    "        DF.loc[:,'relative_position'] = (DF.release_date - start_d) / (end_d - start_d)\n",
    "        #DF.loc[:,'circle_size'] = DF['score']/DF['score'].sum()\n",
    "        DF[['id','title','relative_position','vote_average','score']].to_json(orient='index')"
   ]
  },
  {
   "cell_type": "code",
   "execution_count": 2,
   "metadata": {},
   "outputs": [],
   "source": [
    "df = pd.read_csv(\"final_Actors.csv\")"
   ]
  },
  {
   "cell_type": "code",
   "execution_count": 12,
   "metadata": {},
   "outputs": [],
   "source": [
    "with open(\"actorID.json\",\"w\") as f:\n",
    "    f.write(json.dumps(df[['id','name']].to_dict('records')))\n",
    "    \n",
    "import json\n",
    "with open('actorID.json', 'w') as outfile:\n",
    "    json.dump(json.dumps(df[['id','name']].to_dict('records')), outfile)"
   ]
  },
  {
   "cell_type": "code",
   "execution_count": 33,
   "metadata": {},
   "outputs": [],
   "source": [
    "dict_ = []\n",
    "for index, x in df[['id','name']].iterrows():\n",
    "    dict_.append({\"id\":x.id,\"name\":x[\"name\"]})\n",
    "    "
   ]
  },
  {
   "cell_type": "code",
   "execution_count": 42,
   "metadata": {},
   "outputs": [],
   "source": [
    "with open('actorID.json', 'w') as outfile:\n",
    "    json.dump(json.dumps(dict_), outfile)"
   ]
  },
  {
   "cell_type": "code",
   "execution_count": null,
   "metadata": {},
   "outputs": [],
   "source": []
  }
 ],
 "metadata": {
  "kernelspec": {
   "display_name": "Python 3",
   "language": "python",
   "name": "python3"
  },
  "language_info": {
   "codemirror_mode": {
    "name": "ipython",
    "version": 3
   },
   "file_extension": ".py",
   "mimetype": "text/x-python",
   "name": "python",
   "nbconvert_exporter": "python",
   "pygments_lexer": "ipython3",
   "version": "3.6.4"
  }
 },
 "nbformat": 4,
 "nbformat_minor": 2
}
