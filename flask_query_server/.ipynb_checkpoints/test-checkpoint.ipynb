{
 "cells": [
  {
   "cell_type": "code",
   "execution_count": 5,
   "metadata": {},
   "outputs": [],
   "source": [
    "import pandas as pd\n",
    "from load_tables import table_loader"
   ]
  },
  {
   "cell_type": "code",
   "execution_count": 10,
   "metadata": {},
   "outputs": [],
   "source": [
    "def return_time(float):\n",
    "    d_start = -1262304000\n",
    "    d_end = 1514764800\n",
    "    unix_time = (d_end - d_start)*float+d_start\n",
    "    return pd.to_datetime(unix_time, unit='s').to_period('d').to_timestamp()"
   ]
  },
  {
   "cell_type": "code",
   "execution_count": 6,
   "metadata": {},
   "outputs": [],
   "source": [
    "class table_loader():\n",
    "    def __init__(self):\n",
    "        self.movie_actorDF = pd.read_csv(\"final_MovieToActor.csv\",index_col=0)\n",
    "        self.actorDF = pd.read_csv(\"final_Actors.csv\", index_col=0)\n",
    "        self.metaDataDF = pd.read_csv(\"final_MoviesMetaData_processed.csv\", index_col=0)\n",
    "        self.metaDataDF['release_date'] = pd.to_datetime(self.metaDataDF['release_date'])\n",
    "        self.movie_to_genreDF = pd.read_csv('final_MovieToGenre.csv', index_col=0)\n",
    "        self.Mean = 1\n",
    "\n",
    "    def return_filtered(self, start_float, end_float, max_num=50, genres='All'):\n",
    "\n",
    "        start_t = return_time(start_float)\n",
    "        end_t = return_time(end_float)\n",
    "        time_contrainedMetaFD = self.metaDataDF[(self.metaDataDF['release_date'] > start_t) & (self.metaDataDF['release_date'] < end_t)]\n",
    "        if genres == 'All':\n",
    "            pass\n",
    "        else:\n",
    "            table = self.movie_to_genreDF[self.movie_to_genreDF.name.isin(genres)][['id','name']].groupby('id').count()\n",
    "            table = table[table.name==len(genres)]\n",
    "            table['id'] = table.index\n",
    "            time_contrainedMetaFD = pd.merge(table,time_contrainedMetaFD)\n",
    "        start_d = pd.to_datetime(start_t)\n",
    "        end_d = pd.to_datetime(end_t)\n",
    "        scoreDF = pd.merge(self.movie_actorDF, time_contrainedMetaFD)[['actor_id', 'final_score']].groupby('actor_id').sum()\n",
    "        scoreDF = scoreDF / scoreDF.sort_values('final_score', ascending=False).iloc[:max_num].sum()\n",
    "        time_contrainedMetaFD['relative_position'] = (time_contrainedMetaFD.release_date - start_d) / (end_d - start_d)\n",
    "        self.time_contrainedMetaFD=time_contrainedMetaFD\n",
    "        final_table = pd.merge(self.movie_actorDF, time_contrainedMetaFD)[['actor_id', 'relative_position']].groupby(\n",
    "            'actor_id').mean().join(self.actorDF).join(scoreDF).sort_values('final_score', ascending=False).iloc[:max_num]\n",
    "        final_table['actor_id'] =  final_table.index\n",
    "        #columns_table = self.return_revenue_chart(num_columns,self.Mean)\n",
    "        return final_table.to_json(orient='index')#.to_csv()#, ','.join(columns_table.astype(str))) #.to_json(orient='index')\n",
    "\n",
    "    def return_revenue_chart(self, num_columns, Mean = 1):\n",
    "        self.mean = Mean\n",
    "        if Mean:\n",
    "            return ','.join(self.time_contrainedMetaFD[self.time_contrainedMetaFD.revenue!=0].groupby(\n",
    "            pd.cut(self.time_contrainedMetaFD[self.time_contrainedMetaFD.revenue!=0][\"relative_position\"],\n",
    "                   np.arange(0, 1.0+1/num_columns, 1/num_columns)))['revenue'].mean().values.astype(str))\n",
    "        else:\n",
    "            return ','.join(self.time_contrainedMetaFD[self.time_contrainedMetaFD.revenue != 0].groupby(\n",
    "                pd.cut(self.time_contrainedMetaFD[self.time_contrainedMetaFD.revenue != 0][\"relative_position\"],\n",
    "                       np.arange(0, 1.0 + 1 / num_columns, 1 / num_columns)))['revenue'].sum().values.astype(str))\n",
    "\n",
    "    def return_actor_network(self,actor_id):\n",
    "        pd.merge(pd.merge(self.movie_actorDF[self.movie_actorDF.actor_id == actor_id], self.metaDataDF), self.movie_to_genreDF)\n",
    "        DF = pd.merge(\n",
    "            pd.merge(pd.merge(self.movie_actorDF[self.movie_actorDF.actor_id == actor_id], self.metaDataDF), self.movie_to_genreDF)[\n",
    "                ['id', 'genre_id']], self.movie_actorDF)\n",
    "        DF2 = DF[DF.actor_id != actor_id].drop_duplicates(['id', 'actor_id'])\n",
    "        self.actorDF['actor_id'] = self.actorDF.index\n",
    "        DF3 = pd.merge(DF2, self.actorDF)\n",
    "        DF4 = DF3.sort_values('all_time_final_score', ascending=False).iloc[:50]\n",
    "        actor_dictionary = self.actorDF[['name', 'gender', 'all_time_final_score']].to_dict(orient='index')\n",
    "        actor_set = set()\n",
    "        actor_dict_list = [{'name': actor_dictionary[actor_id]['name'], 'gender': actor_dictionary[actor_id]['gender'],\n",
    "                            'score': actor_dictionary[actor_id]['all_time_final_score']}]\n",
    "        links_list = []\n",
    "        skip = 0\n",
    "        for index, (index_row, row) in enumerate(DF4.iterrows()):\n",
    "\n",
    "            links_list.append({'source': 0, \"target\": len(links_list) - skip, 'value': row.genre_id})\n",
    "            if row.actor_id in actor_set:\n",
    "                skip += 1\n",
    "                continue\n",
    "            actor_set.add(row.actor_id)\n",
    "            actor_dict_list.append(\n",
    "                {'name': actor_dictionary[row.actor_id]['name'], 'gender': actor_dictionary[row.actor_id]['gender'],\n",
    "                 'score': actor_dictionary[row.actor_id]['all_time_final_score']})\n",
    "        return json.dumps({\"actors\":actor_dict_list, \"movies\":links_list})\n"
   ]
  },
  {
   "cell_type": "code",
   "execution_count": 11,
   "metadata": {},
   "outputs": [],
   "source": [
    "loader = table_loader()"
   ]
  },
  {
   "cell_type": "code",
   "execution_count": 12,
   "metadata": {},
   "outputs": [
    {
     "name": "stderr",
     "output_type": "stream",
     "text": [
      "D:\\Users\\Victor\\Anaconda3\\lib\\site-packages\\ipykernel_launcher.py:26: SettingWithCopyWarning: \n",
      "A value is trying to be set on a copy of a slice from a DataFrame.\n",
      "Try using .loc[row_indexer,col_indexer] = value instead\n",
      "\n",
      "See the caveats in the documentation: http://pandas.pydata.org/pandas-docs/stable/indexing.html#indexing-view-versus-copy\n"
     ]
    },
    {
     "data": {
      "text/plain": [
       "'{\"2231\":{\"relative_position\":0.8291645883,\"name\":\"Samuel L. Jackson\",\"gender\":2,\"all_time_final_score\":457.3431166789,\"final_score\":0.0317628475,\"actor_id\":2231},\"31\":{\"relative_position\":0.8248423662,\"name\":\"Tom Hanks\",\"gender\":2,\"all_time_final_score\":392.2690386241,\"final_score\":0.0272434004,\"actor_id\":31},\"18277\":{\"relative_position\":0.8229845194,\"name\":\"Sandra Bullock\",\"gender\":1,\"all_time_final_score\":390.5348017357,\"final_score\":0.0271229562,\"actor_id\":18277},\"85\":{\"relative_position\":0.8475844058,\"name\":\"Johnny Depp\",\"gender\":2,\"all_time_final_score\":390.5018982428,\"final_score\":0.027120671,\"actor_id\":85},\"380\":{\"relative_position\":0.7753167435,\"name\":\"Robert De Niro\",\"gender\":2,\"all_time_final_score\":387.9057361089,\"final_score\":0.0269403655,\"actor_id\":380},\"3895\":{\"relative_position\":0.6767969974,\"name\":\"Michael Caine\",\"gender\":2,\"all_time_final_score\":374.4041514207,\"final_score\":0.0260026696,\"actor_id\":3895},\"6384\":{\"relative_position\":0.8160428723,\"name\":\"Keanu Reeves\",\"gender\":2,\"all_time_final_score\":367.5102367554,\"final_score\":0.0255238817,\"actor_id\":6384},\"62\":{\"relative_position\":0.8288303073,\"name\":\"Bruce Willis\",\"gender\":2,\"all_time_final_score\":365.4230823739,\"final_score\":0.0253789271,\"actor_id\":62},\"3223\":{\"relative_position\":0.8057379308,\"name\":\"Robert Downey Jr.\",\"gender\":2,\"all_time_final_score\":349.8669678281,\"final_score\":0.0242985424,\"actor_id\":3223},\"65717\":{\"relative_position\":0.9228411903,\"name\":\"Jon Hamm\",\"gender\":2,\"all_time_final_score\":346.2606963449,\"final_score\":0.024048084,\"actor_id\":65717},\"192\":{\"relative_position\":0.8347158016,\"name\":\"Morgan Freeman\",\"gender\":2,\"all_time_final_score\":339.4367479126,\"final_score\":0.0235741553,\"actor_id\":192},\"287\":{\"relative_position\":0.8179899612,\"name\":\"Brad Pitt\",\"gender\":2,\"all_time_final_score\":327.7081315426,\"final_score\":0.0227595934,\"actor_id\":287},\"10990\":{\"relative_position\":0.9174174469,\"name\":\"Emma Watson\",\"gender\":1,\"all_time_final_score\":321.4423842499,\"final_score\":0.0223244322,\"actor_id\":10990},\"8691\":{\"relative_position\":0.9092464688,\"name\":\"Zoe Saldana\",\"gender\":1,\"all_time_final_score\":317.7054808208,\"final_score\":0.0220649013,\"actor_id\":8691},\"2232\":{\"relative_position\":0.7975311088,\"name\":\"Michael Keaton\",\"gender\":2,\"all_time_final_score\":312.8876298604,\"final_score\":0.0217302977,\"actor_id\":2232},\"57755\":{\"relative_position\":0.8521202575,\"name\":\"Woody Harrelson\",\"gender\":2,\"all_time_final_score\":312.2772156417,\"final_score\":0.0216879039,\"actor_id\":57755},\"3\":{\"relative_position\":0.7320934406,\"name\":\"Harrison Ford\",\"gender\":2,\"all_time_final_score\":297.6883434969,\"final_score\":0.020674695,\"actor_id\":3},\"118\":{\"relative_position\":0.8636052517,\"name\":\"Geoffrey Rush\",\"gender\":2,\"all_time_final_score\":296.0345223741,\"final_score\":0.0205598358,\"actor_id\":118},\"3894\":{\"relative_position\":0.8326377592,\"name\":\"Christian Bale\",\"gender\":2,\"all_time_final_score\":289.024661219,\"final_score\":0.0200729953,\"actor_id\":3894},\"64\":{\"relative_position\":0.8200707574,\"name\":\"Gary Oldman\",\"gender\":2,\"all_time_final_score\":286.8029561679,\"final_score\":0.0199186961,\"actor_id\":64},\"3896\":{\"relative_position\":0.8405987303,\"name\":\"Liam Neeson\",\"gender\":2,\"all_time_final_score\":283.1876764549,\"final_score\":0.019667612,\"actor_id\":3896},\"1245\":{\"relative_position\":0.8851450854,\"name\":\"Scarlett Johansson\",\"gender\":1,\"all_time_final_score\":283.0527941037,\"final_score\":0.0196582443,\"actor_id\":1245},\"3061\":{\"relative_position\":0.8745199326,\"name\":\"Ewan McGregor\",\"gender\":2,\"all_time_final_score\":281.1123102312,\"final_score\":0.0195234761,\"actor_id\":3061},\"10205\":{\"relative_position\":0.8307577433,\"name\":\"Sigourney Weaver\",\"gender\":1,\"all_time_final_score\":280.7026353156,\"final_score\":0.0194950239,\"actor_id\":10205},\"880\":{\"relative_position\":0.838981103,\"name\":\"Ben Affleck\",\"gender\":2,\"all_time_final_score\":278.7561190859,\"final_score\":0.0193598368,\"actor_id\":880},\"1892\":{\"relative_position\":0.8578862269,\"name\":\"Matt Damon\",\"gender\":2,\"all_time_final_score\":274.1200484192,\"final_score\":0.0190378579,\"actor_id\":1892},\"5293\":{\"relative_position\":0.832178973,\"name\":\"Willem Dafoe\",\"gender\":2,\"all_time_final_score\":267.6248649432,\"final_score\":0.0185867622,\"actor_id\":5293},\"16828\":{\"relative_position\":0.9123074823,\"name\":\"Chris Evans\",\"gender\":2,\"all_time_final_score\":265.0166456391,\"final_score\":0.0184056193,\"actor_id\":16828},\"1979\":{\"relative_position\":0.8217824698,\"name\":\"Kevin Spacey\",\"gender\":2,\"all_time_final_score\":264.2391080881,\"final_score\":0.0183516187,\"actor_id\":1979},\"18897\":{\"relative_position\":0.7156466559,\"name\":\"Jackie Chan\",\"gender\":2,\"all_time_final_score\":260.9832526162,\"final_score\":0.0181254969,\"actor_id\":18897},\"8891\":{\"relative_position\":0.7735903609,\"name\":\"John Travolta\",\"gender\":2,\"all_time_final_score\":258.6168868598,\"final_score\":0.0179611509,\"actor_id\":8891},\"500\":{\"relative_position\":0.7940773456,\"name\":\"Tom Cruise\",\"gender\":2,\"all_time_final_score\":258.4844785334,\"final_score\":0.017951955,\"actor_id\":500},\"1158\":{\"relative_position\":0.7577829748,\"name\":\"Al Pacino\",\"gender\":2,\"all_time_final_score\":258.2571762552,\"final_score\":0.0179361687,\"actor_id\":1158},\"2963\":{\"relative_position\":0.8285272973,\"name\":\"Nicolas Cage\",\"gender\":2,\"all_time_final_score\":255.144356846,\"final_score\":0.0177199809,\"actor_id\":2963},\"10859\":{\"relative_position\":0.8903311323,\"name\":\"Ryan Reynolds\",\"gender\":2,\"all_time_final_score\":249.9607916979,\"final_score\":0.0173599781,\"actor_id\":10859},\"73457\":{\"relative_position\":0.9362964346,\"name\":\"Chris Pratt\",\"gender\":2,\"all_time_final_score\":246.0075771146,\"final_score\":0.0170854242,\"actor_id\":73457},\"62064\":{\"relative_position\":0.9317763004,\"name\":\"Chris Pine\",\"gender\":2,\"all_time_final_score\":245.230719105,\"final_score\":0.0170314708,\"actor_id\":62064},\"32\":{\"relative_position\":0.8449921238,\"name\":\"Robin Wright\",\"gender\":1,\"all_time_final_score\":242.6772488285,\"final_score\":0.0168541302,\"actor_id\":32},\"1333\":{\"relative_position\":0.8704354609,\"name\":\"Andy Serkis\",\"gender\":2,\"all_time_final_score\":238.9205508062,\"final_score\":0.0165932245,\"actor_id\":1333},\"2157\":{\"relative_position\":0.7974658186,\"name\":\"Robin Williams\",\"gender\":2,\"all_time_final_score\":237.0014609717,\"final_score\":0.0164599422,\"actor_id\":2157},\"16483\":{\"relative_position\":0.718722277,\"name\":\"Sylvester Stallone\",\"gender\":2,\"all_time_final_score\":235.6587665516,\"final_score\":0.016366691,\"actor_id\":16483},\"19\":{\"relative_position\":0.8769563834,\"name\":\"Allison Janney\",\"gender\":1,\"all_time_final_score\":234.7095923134,\"final_score\":0.01630077,\"actor_id\":19},\"1230\":{\"relative_position\":0.8302051399,\"name\":\"John Goodman\",\"gender\":2,\"all_time_final_score\":228.9424972864,\"final_score\":0.0159002407,\"actor_id\":1230},\"4495\":{\"relative_position\":0.9005040134,\"name\":\"Steve Carell\",\"gender\":2,\"all_time_final_score\":226.4630262074,\"final_score\":0.0157280394,\"actor_id\":4495},\"190\":{\"relative_position\":0.6043958703,\"name\":\"Clint Eastwood\",\"gender\":2,\"all_time_final_score\":224.2932101344,\"final_score\":0.0155773439,\"actor_id\":190},\"2282\":{\"relative_position\":0.8541054766,\"name\":\"Ben Kingsley\",\"gender\":2,\"all_time_final_score\":221.4481022666,\"final_score\":0.0153797489,\"actor_id\":2282},\"11207\":{\"relative_position\":0.8462860719,\"name\":\"David Thewlis\",\"gender\":2,\"all_time_final_score\":220.9855427686,\"final_score\":0.0153476238,\"actor_id\":11207},\"12835\":{\"relative_position\":0.8718509531,\"name\":\"Vin Diesel\",\"gender\":2,\"all_time_final_score\":220.8091006002,\"final_score\":0.0153353697,\"actor_id\":12835},\"6193\":{\"relative_position\":0.8335559782,\"name\":\"Leonardo DiCaprio\",\"gender\":2,\"all_time_final_score\":217.5310730607,\"final_score\":0.0151077081,\"actor_id\":6193},\"1327\":{\"relative_position\":0.7976981406,\"name\":\"Ian McKellen\",\"gender\":2,\"all_time_final_score\":215.7158580791,\"final_score\":0.0149816399,\"actor_id\":1327}}'"
      ]
     },
     "execution_count": 12,
     "metadata": {},
     "output_type": "execute_result"
    }
   ],
   "source": [
    "loader.return_filtered(0,1)"
   ]
  },
  {
   "cell_type": "code",
   "execution_count": null,
   "metadata": {},
   "outputs": [],
   "source": []
  }
 ],
 "metadata": {
  "kernelspec": {
   "display_name": "Python 3",
   "language": "python",
   "name": "python3"
  },
  "language_info": {
   "codemirror_mode": {
    "name": "ipython",
    "version": 3
   },
   "file_extension": ".py",
   "mimetype": "text/x-python",
   "name": "python",
   "nbconvert_exporter": "python",
   "pygments_lexer": "ipython3",
   "version": "3.6.4"
  }
 },
 "nbformat": 4,
 "nbformat_minor": 2
}
